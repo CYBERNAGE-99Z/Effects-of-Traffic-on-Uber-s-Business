{
 "cells": [
  {
   "cell_type": "code",
   "execution_count": 1,
   "id": "c220a8e7",
   "metadata": {},
   "outputs": [],
   "source": [
    "# Importing the required python libraries\n",
    "\n",
    "import matplotlib.pyplot as plt\n",
    "import pandas as pd\n",
    "import seaborn as sns\n",
    "from sklearn.preprocessing import MinMaxScaler, StandardScaler\n",
    "from sklearn.ensemble import RandomForestRegressor\n",
    "from sklearn.model_selection import train_test_split"
   ]
  },
  {
   "cell_type": "code",
   "execution_count": 2,
   "id": "9db305c7",
   "metadata": {},
   "outputs": [
    {
     "data": {
      "text/html": [
       "<div>\n",
       "<style scoped>\n",
       "    .dataframe tbody tr th:only-of-type {\n",
       "        vertical-align: middle;\n",
       "    }\n",
       "\n",
       "    .dataframe tbody tr th {\n",
       "        vertical-align: top;\n",
       "    }\n",
       "\n",
       "    .dataframe thead th {\n",
       "        text-align: right;\n",
       "    }\n",
       "</style>\n",
       "<table border=\"1\" class=\"dataframe\">\n",
       "  <thead>\n",
       "    <tr style=\"text-align: right;\">\n",
       "      <th></th>\n",
       "      <th>DateTime</th>\n",
       "      <th>Junction</th>\n",
       "      <th>Vehicles</th>\n",
       "      <th>ID</th>\n",
       "    </tr>\n",
       "  </thead>\n",
       "  <tbody>\n",
       "    <tr>\n",
       "      <th>0</th>\n",
       "      <td>01/11/15 0:00</td>\n",
       "      <td>1</td>\n",
       "      <td>15</td>\n",
       "      <td>20151101001</td>\n",
       "    </tr>\n",
       "    <tr>\n",
       "      <th>1</th>\n",
       "      <td>01/11/15 1:00</td>\n",
       "      <td>1</td>\n",
       "      <td>13</td>\n",
       "      <td>20151101011</td>\n",
       "    </tr>\n",
       "    <tr>\n",
       "      <th>2</th>\n",
       "      <td>01/11/15 2:00</td>\n",
       "      <td>1</td>\n",
       "      <td>10</td>\n",
       "      <td>20151101021</td>\n",
       "    </tr>\n",
       "    <tr>\n",
       "      <th>3</th>\n",
       "      <td>01/11/15 3:00</td>\n",
       "      <td>1</td>\n",
       "      <td>7</td>\n",
       "      <td>20151101031</td>\n",
       "    </tr>\n",
       "    <tr>\n",
       "      <th>4</th>\n",
       "      <td>01/11/15 4:00</td>\n",
       "      <td>1</td>\n",
       "      <td>9</td>\n",
       "      <td>20151101041</td>\n",
       "    </tr>\n",
       "    <tr>\n",
       "      <th>5</th>\n",
       "      <td>01/11/15 5:00</td>\n",
       "      <td>1</td>\n",
       "      <td>6</td>\n",
       "      <td>20151101051</td>\n",
       "    </tr>\n",
       "    <tr>\n",
       "      <th>6</th>\n",
       "      <td>01/11/15 6:00</td>\n",
       "      <td>1</td>\n",
       "      <td>9</td>\n",
       "      <td>20151101061</td>\n",
       "    </tr>\n",
       "    <tr>\n",
       "      <th>7</th>\n",
       "      <td>01/11/15 7:00</td>\n",
       "      <td>1</td>\n",
       "      <td>8</td>\n",
       "      <td>20151101071</td>\n",
       "    </tr>\n",
       "    <tr>\n",
       "      <th>8</th>\n",
       "      <td>01/11/15 8:00</td>\n",
       "      <td>1</td>\n",
       "      <td>11</td>\n",
       "      <td>20151101081</td>\n",
       "    </tr>\n",
       "    <tr>\n",
       "      <th>9</th>\n",
       "      <td>01/11/15 9:00</td>\n",
       "      <td>1</td>\n",
       "      <td>12</td>\n",
       "      <td>20151101091</td>\n",
       "    </tr>\n",
       "  </tbody>\n",
       "</table>\n",
       "</div>"
      ],
      "text/plain": [
       "        DateTime  Junction  Vehicles           ID\n",
       "0  01/11/15 0:00         1        15  20151101001\n",
       "1  01/11/15 1:00         1        13  20151101011\n",
       "2  01/11/15 2:00         1        10  20151101021\n",
       "3  01/11/15 3:00         1         7  20151101031\n",
       "4  01/11/15 4:00         1         9  20151101041\n",
       "5  01/11/15 5:00         1         6  20151101051\n",
       "6  01/11/15 6:00         1         9  20151101061\n",
       "7  01/11/15 7:00         1         8  20151101071\n",
       "8  01/11/15 8:00         1        11  20151101081\n",
       "9  01/11/15 9:00         1        12  20151101091"
      ]
     },
     "execution_count": 2,
     "metadata": {},
     "output_type": "execute_result"
    }
   ],
   "source": [
    "# Reading the data\n",
    "df=pd.read_csv('Dataset_Uber Traffic.csv')\n",
    "df.head(10)"
   ]
  },
  {
   "cell_type": "code",
   "execution_count": 3,
   "id": "c0de826e",
   "metadata": {},
   "outputs": [
    {
     "name": "stdout",
     "output_type": "stream",
     "text": [
      "<class 'pandas.core.frame.DataFrame'>\n",
      "RangeIndex: 48120 entries, 0 to 48119\n",
      "Data columns (total 4 columns):\n",
      " #   Column    Non-Null Count  Dtype \n",
      "---  ------    --------------  ----- \n",
      " 0   DateTime  48120 non-null  object\n",
      " 1   Junction  48120 non-null  int64 \n",
      " 2   Vehicles  48120 non-null  int64 \n",
      " 3   ID        48120 non-null  int64 \n",
      "dtypes: int64(3), object(1)\n",
      "memory usage: 1.5+ MB\n"
     ]
    }
   ],
   "source": [
    "# Dataset information\n",
    "df.info()"
   ]
  },
  {
   "cell_type": "code",
   "execution_count": 4,
   "id": "baddb633",
   "metadata": {},
   "outputs": [
    {
     "name": "stdout",
     "output_type": "stream",
     "text": [
      "DateTime    0\n",
      "Junction    0\n",
      "Vehicles    0\n",
      "ID          0\n",
      "dtype: int64\n"
     ]
    }
   ],
   "source": [
    "# Checking if there is any null value present in the data or not \n",
    "\n",
    "null_values=df.isnull().sum()\n",
    "print(null_values)"
   ]
  },
  {
   "cell_type": "code",
   "execution_count": 5,
   "id": "7cd5cc43",
   "metadata": {
    "scrolled": true
   },
   "outputs": [
    {
     "name": "stdout",
     "output_type": "stream",
     "text": [
      "0\n"
     ]
    }
   ],
   "source": [
    "# Checking for duplicate values\n",
    "\n",
    "duplicates=df.duplicated().sum()\n",
    "print(duplicates)"
   ]
  },
  {
   "cell_type": "markdown",
   "id": "ebc97f3c",
   "metadata": {},
   "source": [
    "To normalize or standardize the data to facilitate comparison across different time periods and junctions, you can use several techniques. Two common methods are Min-Max normalization and Z-score standardization. "
   ]
  },
  {
   "cell_type": "markdown",
   "id": "af29b20e",
   "metadata": {},
   "source": [
    "# Min-Max Normalization"
   ]
  },
  {
   "cell_type": "code",
   "execution_count": 8,
   "id": "df37f299",
   "metadata": {},
   "outputs": [],
   "source": [
    "df['vehicles_min_max']=(df['Vehicles']-df['Vehicles'].min()) / (df['Vehicles'].max()-df['Vehicles'].min())"
   ]
  },
  {
   "cell_type": "markdown",
   "id": "fb2f4f24",
   "metadata": {},
   "source": [
    "# Z-score Standardization"
   ]
  },
  {
   "cell_type": "code",
   "execution_count": 9,
   "id": "33685c99",
   "metadata": {},
   "outputs": [
    {
     "data": {
      "text/html": [
       "<div>\n",
       "<style scoped>\n",
       "    .dataframe tbody tr th:only-of-type {\n",
       "        vertical-align: middle;\n",
       "    }\n",
       "\n",
       "    .dataframe tbody tr th {\n",
       "        vertical-align: top;\n",
       "    }\n",
       "\n",
       "    .dataframe thead th {\n",
       "        text-align: right;\n",
       "    }\n",
       "</style>\n",
       "<table border=\"1\" class=\"dataframe\">\n",
       "  <thead>\n",
       "    <tr style=\"text-align: right;\">\n",
       "      <th></th>\n",
       "      <th>DateTime</th>\n",
       "      <th>Junction</th>\n",
       "      <th>Vehicles</th>\n",
       "      <th>Vehicles_z_score</th>\n",
       "    </tr>\n",
       "  </thead>\n",
       "  <tbody>\n",
       "    <tr>\n",
       "      <th>0</th>\n",
       "      <td>01/11/15 0:00</td>\n",
       "      <td>1</td>\n",
       "      <td>15</td>\n",
       "      <td>-0.375485</td>\n",
       "    </tr>\n",
       "    <tr>\n",
       "      <th>1</th>\n",
       "      <td>01/11/15 1:00</td>\n",
       "      <td>1</td>\n",
       "      <td>13</td>\n",
       "      <td>-0.471870</td>\n",
       "    </tr>\n",
       "    <tr>\n",
       "      <th>2</th>\n",
       "      <td>01/11/15 2:00</td>\n",
       "      <td>1</td>\n",
       "      <td>10</td>\n",
       "      <td>-0.616448</td>\n",
       "    </tr>\n",
       "    <tr>\n",
       "      <th>3</th>\n",
       "      <td>01/11/15 3:00</td>\n",
       "      <td>1</td>\n",
       "      <td>7</td>\n",
       "      <td>-0.761026</td>\n",
       "    </tr>\n",
       "    <tr>\n",
       "      <th>4</th>\n",
       "      <td>01/11/15 4:00</td>\n",
       "      <td>1</td>\n",
       "      <td>9</td>\n",
       "      <td>-0.664641</td>\n",
       "    </tr>\n",
       "    <tr>\n",
       "      <th>...</th>\n",
       "      <td>...</td>\n",
       "      <td>...</td>\n",
       "      <td>...</td>\n",
       "      <td>...</td>\n",
       "    </tr>\n",
       "    <tr>\n",
       "      <th>48115</th>\n",
       "      <td>30/06/17 19:00</td>\n",
       "      <td>4</td>\n",
       "      <td>11</td>\n",
       "      <td>-0.568255</td>\n",
       "    </tr>\n",
       "    <tr>\n",
       "      <th>48116</th>\n",
       "      <td>30/06/17 20:00</td>\n",
       "      <td>4</td>\n",
       "      <td>30</td>\n",
       "      <td>0.347405</td>\n",
       "    </tr>\n",
       "    <tr>\n",
       "      <th>48117</th>\n",
       "      <td>30/06/17 21:00</td>\n",
       "      <td>4</td>\n",
       "      <td>16</td>\n",
       "      <td>-0.327292</td>\n",
       "    </tr>\n",
       "    <tr>\n",
       "      <th>48118</th>\n",
       "      <td>30/06/17 22:00</td>\n",
       "      <td>4</td>\n",
       "      <td>22</td>\n",
       "      <td>-0.038136</td>\n",
       "    </tr>\n",
       "    <tr>\n",
       "      <th>48119</th>\n",
       "      <td>30/06/17 23:00</td>\n",
       "      <td>4</td>\n",
       "      <td>12</td>\n",
       "      <td>-0.520063</td>\n",
       "    </tr>\n",
       "  </tbody>\n",
       "</table>\n",
       "<p>48120 rows × 4 columns</p>\n",
       "</div>"
      ],
      "text/plain": [
       "             DateTime  Junction  Vehicles  Vehicles_z_score\n",
       "0       01/11/15 0:00         1        15         -0.375485\n",
       "1       01/11/15 1:00         1        13         -0.471870\n",
       "2       01/11/15 2:00         1        10         -0.616448\n",
       "3       01/11/15 3:00         1         7         -0.761026\n",
       "4       01/11/15 4:00         1         9         -0.664641\n",
       "...               ...       ...       ...               ...\n",
       "48115  30/06/17 19:00         4        11         -0.568255\n",
       "48116  30/06/17 20:00         4        30          0.347405\n",
       "48117  30/06/17 21:00         4        16         -0.327292\n",
       "48118  30/06/17 22:00         4        22         -0.038136\n",
       "48119  30/06/17 23:00         4        12         -0.520063\n",
       "\n",
       "[48120 rows x 4 columns]"
      ]
     },
     "execution_count": 9,
     "metadata": {},
     "output_type": "execute_result"
    }
   ],
   "source": [
    "df['Vehicles_z_score'] = (df['Vehicles'] - df['Vehicles'].mean()) / df['Vehicles'].std()\n",
    "\n",
    "df[['DateTime', 'Junction', 'Vehicles', 'Vehicles_z_score']]"
   ]
  },
  {
   "cell_type": "markdown",
   "id": "4fce8991",
   "metadata": {},
   "source": [
    "# Time-based features"
   ]
  },
  {
   "cell_type": "markdown",
   "id": "220b1db2",
   "metadata": {},
   "source": [
    "To generate time-based features such as hour of the day, day of the week, and month from a datetime column in a Pandas DataFrame, you can use the \"dt\" accessor provided by Pandas for datetime operations. "
   ]
  },
  {
   "cell_type": "code",
   "execution_count": null,
   "id": "65b867f0",
   "metadata": {},
   "outputs": [],
   "source": [
    "\n",
    "df['DateTime'] = pd.to_datetime(df['DateTime'])\n",
    "\n",
    "# Generate time-based features such as Hour of day, day of week, month\n",
    "df['Hour_of_day'] = df['DateTime'].dt.hour\n",
    "df['Day_of_week'] = df['DateTime'].dt.dayofweek  # Monday=0, Sunday=6\n",
    "df['Month'] = df['DateTime'].dt.month\n",
    "\n",
    "df.head(10)"
   ]
  },
  {
   "cell_type": "markdown",
   "id": "100dbb77",
   "metadata": {},
   "source": [
    "# Lag Feature"
   ]
  },
  {
   "cell_type": "markdown",
   "id": "28c6a4e1",
   "metadata": {},
   "source": [
    "Developing lag features in your dataset using traffic data from previous hours or days, you can create new columns that shift existing columns by a specified number of time units (hours or days). This allows you to capture temporal dependencies in your data, which can be useful for time series forecasting or predictive modeling tasks. Here’s how to do this using Python and Pandas:"
   ]
  },
  {
   "cell_type": "code",
   "execution_count": 11,
   "id": "f35db3cd",
   "metadata": {},
   "outputs": [
    {
     "data": {
      "text/html": [
       "<div>\n",
       "<style scoped>\n",
       "    .dataframe tbody tr th:only-of-type {\n",
       "        vertical-align: middle;\n",
       "    }\n",
       "\n",
       "    .dataframe tbody tr th {\n",
       "        vertical-align: top;\n",
       "    }\n",
       "\n",
       "    .dataframe thead th {\n",
       "        text-align: right;\n",
       "    }\n",
       "</style>\n",
       "<table border=\"1\" class=\"dataframe\">\n",
       "  <thead>\n",
       "    <tr style=\"text-align: right;\">\n",
       "      <th></th>\n",
       "      <th>DateTime</th>\n",
       "      <th>Junction</th>\n",
       "      <th>Vehicles</th>\n",
       "      <th>ID</th>\n",
       "      <th>vehicles_min_max</th>\n",
       "      <th>Vehicles_z_score</th>\n",
       "      <th>Hour_of_day</th>\n",
       "      <th>Day_of_week</th>\n",
       "      <th>Month</th>\n",
       "      <th>Vehicles_lag_1hour</th>\n",
       "    </tr>\n",
       "  </thead>\n",
       "  <tbody>\n",
       "    <tr>\n",
       "      <th>0</th>\n",
       "      <td>2015-01-11 00:00:00</td>\n",
       "      <td>1</td>\n",
       "      <td>15</td>\n",
       "      <td>20151101001</td>\n",
       "      <td>0.078212</td>\n",
       "      <td>-0.375485</td>\n",
       "      <td>0</td>\n",
       "      <td>6</td>\n",
       "      <td>1</td>\n",
       "      <td>NaN</td>\n",
       "    </tr>\n",
       "    <tr>\n",
       "      <th>1</th>\n",
       "      <td>2015-01-11 01:00:00</td>\n",
       "      <td>1</td>\n",
       "      <td>13</td>\n",
       "      <td>20151101011</td>\n",
       "      <td>0.067039</td>\n",
       "      <td>-0.471870</td>\n",
       "      <td>1</td>\n",
       "      <td>6</td>\n",
       "      <td>1</td>\n",
       "      <td>15.0</td>\n",
       "    </tr>\n",
       "    <tr>\n",
       "      <th>2</th>\n",
       "      <td>2015-01-11 02:00:00</td>\n",
       "      <td>1</td>\n",
       "      <td>10</td>\n",
       "      <td>20151101021</td>\n",
       "      <td>0.050279</td>\n",
       "      <td>-0.616448</td>\n",
       "      <td>2</td>\n",
       "      <td>6</td>\n",
       "      <td>1</td>\n",
       "      <td>13.0</td>\n",
       "    </tr>\n",
       "    <tr>\n",
       "      <th>3</th>\n",
       "      <td>2015-01-11 03:00:00</td>\n",
       "      <td>1</td>\n",
       "      <td>7</td>\n",
       "      <td>20151101031</td>\n",
       "      <td>0.033520</td>\n",
       "      <td>-0.761026</td>\n",
       "      <td>3</td>\n",
       "      <td>6</td>\n",
       "      <td>1</td>\n",
       "      <td>10.0</td>\n",
       "    </tr>\n",
       "    <tr>\n",
       "      <th>4</th>\n",
       "      <td>2015-01-11 04:00:00</td>\n",
       "      <td>1</td>\n",
       "      <td>9</td>\n",
       "      <td>20151101041</td>\n",
       "      <td>0.044693</td>\n",
       "      <td>-0.664641</td>\n",
       "      <td>4</td>\n",
       "      <td>6</td>\n",
       "      <td>1</td>\n",
       "      <td>7.0</td>\n",
       "    </tr>\n",
       "    <tr>\n",
       "      <th>5</th>\n",
       "      <td>2015-01-11 05:00:00</td>\n",
       "      <td>1</td>\n",
       "      <td>6</td>\n",
       "      <td>20151101051</td>\n",
       "      <td>0.027933</td>\n",
       "      <td>-0.809218</td>\n",
       "      <td>5</td>\n",
       "      <td>6</td>\n",
       "      <td>1</td>\n",
       "      <td>9.0</td>\n",
       "    </tr>\n",
       "    <tr>\n",
       "      <th>6</th>\n",
       "      <td>2015-01-11 06:00:00</td>\n",
       "      <td>1</td>\n",
       "      <td>9</td>\n",
       "      <td>20151101061</td>\n",
       "      <td>0.044693</td>\n",
       "      <td>-0.664641</td>\n",
       "      <td>6</td>\n",
       "      <td>6</td>\n",
       "      <td>1</td>\n",
       "      <td>6.0</td>\n",
       "    </tr>\n",
       "    <tr>\n",
       "      <th>7</th>\n",
       "      <td>2015-01-11 07:00:00</td>\n",
       "      <td>1</td>\n",
       "      <td>8</td>\n",
       "      <td>20151101071</td>\n",
       "      <td>0.039106</td>\n",
       "      <td>-0.712833</td>\n",
       "      <td>7</td>\n",
       "      <td>6</td>\n",
       "      <td>1</td>\n",
       "      <td>9.0</td>\n",
       "    </tr>\n",
       "    <tr>\n",
       "      <th>8</th>\n",
       "      <td>2015-01-11 08:00:00</td>\n",
       "      <td>1</td>\n",
       "      <td>11</td>\n",
       "      <td>20151101081</td>\n",
       "      <td>0.055866</td>\n",
       "      <td>-0.568255</td>\n",
       "      <td>8</td>\n",
       "      <td>6</td>\n",
       "      <td>1</td>\n",
       "      <td>8.0</td>\n",
       "    </tr>\n",
       "    <tr>\n",
       "      <th>9</th>\n",
       "      <td>2015-01-11 09:00:00</td>\n",
       "      <td>1</td>\n",
       "      <td>12</td>\n",
       "      <td>20151101091</td>\n",
       "      <td>0.061453</td>\n",
       "      <td>-0.520063</td>\n",
       "      <td>9</td>\n",
       "      <td>6</td>\n",
       "      <td>1</td>\n",
       "      <td>11.0</td>\n",
       "    </tr>\n",
       "  </tbody>\n",
       "</table>\n",
       "</div>"
      ],
      "text/plain": [
       "             DateTime  Junction  Vehicles           ID  vehicles_min_max  \\\n",
       "0 2015-01-11 00:00:00         1        15  20151101001          0.078212   \n",
       "1 2015-01-11 01:00:00         1        13  20151101011          0.067039   \n",
       "2 2015-01-11 02:00:00         1        10  20151101021          0.050279   \n",
       "3 2015-01-11 03:00:00         1         7  20151101031          0.033520   \n",
       "4 2015-01-11 04:00:00         1         9  20151101041          0.044693   \n",
       "5 2015-01-11 05:00:00         1         6  20151101051          0.027933   \n",
       "6 2015-01-11 06:00:00         1         9  20151101061          0.044693   \n",
       "7 2015-01-11 07:00:00         1         8  20151101071          0.039106   \n",
       "8 2015-01-11 08:00:00         1        11  20151101081          0.055866   \n",
       "9 2015-01-11 09:00:00         1        12  20151101091          0.061453   \n",
       "\n",
       "   Vehicles_z_score  Hour_of_day  Day_of_week  Month  Vehicles_lag_1hour  \n",
       "0         -0.375485            0            6      1                 NaN  \n",
       "1         -0.471870            1            6      1                15.0  \n",
       "2         -0.616448            2            6      1                13.0  \n",
       "3         -0.761026            3            6      1                10.0  \n",
       "4         -0.664641            4            6      1                 7.0  \n",
       "5         -0.809218            5            6      1                 9.0  \n",
       "6         -0.664641            6            6      1                 6.0  \n",
       "7         -0.712833            7            6      1                 9.0  \n",
       "8         -0.568255            8            6      1                 8.0  \n",
       "9         -0.520063            9            6      1                11.0  "
      ]
     },
     "execution_count": 11,
     "metadata": {},
     "output_type": "execute_result"
    }
   ],
   "source": [
    "df['DateTime']=pd.to_datetime(df['DateTime'])\n",
    "hours_to_shift=1\n",
    "\n",
    "df['Vehicles_lag_1hour']=df.groupby('Junction')['Vehicles'].shift(hours_to_shift)\n",
    "df.head(10)"
   ]
  },
  {
   "cell_type": "markdown",
   "id": "2e0412db",
   "metadata": {},
   "source": [
    "# Binary Indicators"
   ]
  },
  {
   "cell_type": "markdown",
   "id": "b1ddbcaa",
   "metadata": {},
   "source": [
    "Creating Binary Indicators helps to provide a systematic way to incorporate temporal and event-specific variations into your dataset, enhancing the robustness of the model "
   ]
  },
  {
   "cell_type": "markdown",
   "id": "209584cc",
   "metadata": {},
   "source": [
    "Below there are 2 binary indicators i.e. \"is_weekend\" and \"is_special_event\""
   ]
  },
  {
   "cell_type": "code",
   "execution_count": 12,
   "id": "6ccb35af",
   "metadata": {
    "scrolled": false
   },
   "outputs": [
    {
     "data": {
      "text/html": [
       "<div>\n",
       "<style scoped>\n",
       "    .dataframe tbody tr th:only-of-type {\n",
       "        vertical-align: middle;\n",
       "    }\n",
       "\n",
       "    .dataframe tbody tr th {\n",
       "        vertical-align: top;\n",
       "    }\n",
       "\n",
       "    .dataframe thead th {\n",
       "        text-align: right;\n",
       "    }\n",
       "</style>\n",
       "<table border=\"1\" class=\"dataframe\">\n",
       "  <thead>\n",
       "    <tr style=\"text-align: right;\">\n",
       "      <th></th>\n",
       "      <th>DateTime</th>\n",
       "      <th>Junction</th>\n",
       "      <th>Vehicles</th>\n",
       "      <th>ID</th>\n",
       "      <th>vehicles_min_max</th>\n",
       "      <th>Vehicles_z_score</th>\n",
       "      <th>Hour_of_day</th>\n",
       "      <th>Day_of_week</th>\n",
       "      <th>Month</th>\n",
       "      <th>Vehicles_lag_1hour</th>\n",
       "      <th>is_weekend</th>\n",
       "      <th>is_special_event</th>\n",
       "    </tr>\n",
       "  </thead>\n",
       "  <tbody>\n",
       "    <tr>\n",
       "      <th>0</th>\n",
       "      <td>2015-01-11 00:00:00</td>\n",
       "      <td>1</td>\n",
       "      <td>15</td>\n",
       "      <td>20151101001</td>\n",
       "      <td>0.078212</td>\n",
       "      <td>-0.375485</td>\n",
       "      <td>0</td>\n",
       "      <td>6</td>\n",
       "      <td>1</td>\n",
       "      <td>NaN</td>\n",
       "      <td>True</td>\n",
       "      <td>False</td>\n",
       "    </tr>\n",
       "    <tr>\n",
       "      <th>1</th>\n",
       "      <td>2015-01-11 01:00:00</td>\n",
       "      <td>1</td>\n",
       "      <td>13</td>\n",
       "      <td>20151101011</td>\n",
       "      <td>0.067039</td>\n",
       "      <td>-0.471870</td>\n",
       "      <td>1</td>\n",
       "      <td>6</td>\n",
       "      <td>1</td>\n",
       "      <td>15.0</td>\n",
       "      <td>True</td>\n",
       "      <td>False</td>\n",
       "    </tr>\n",
       "    <tr>\n",
       "      <th>2</th>\n",
       "      <td>2015-01-11 02:00:00</td>\n",
       "      <td>1</td>\n",
       "      <td>10</td>\n",
       "      <td>20151101021</td>\n",
       "      <td>0.050279</td>\n",
       "      <td>-0.616448</td>\n",
       "      <td>2</td>\n",
       "      <td>6</td>\n",
       "      <td>1</td>\n",
       "      <td>13.0</td>\n",
       "      <td>True</td>\n",
       "      <td>False</td>\n",
       "    </tr>\n",
       "    <tr>\n",
       "      <th>3</th>\n",
       "      <td>2015-01-11 03:00:00</td>\n",
       "      <td>1</td>\n",
       "      <td>7</td>\n",
       "      <td>20151101031</td>\n",
       "      <td>0.033520</td>\n",
       "      <td>-0.761026</td>\n",
       "      <td>3</td>\n",
       "      <td>6</td>\n",
       "      <td>1</td>\n",
       "      <td>10.0</td>\n",
       "      <td>True</td>\n",
       "      <td>False</td>\n",
       "    </tr>\n",
       "    <tr>\n",
       "      <th>4</th>\n",
       "      <td>2015-01-11 04:00:00</td>\n",
       "      <td>1</td>\n",
       "      <td>9</td>\n",
       "      <td>20151101041</td>\n",
       "      <td>0.044693</td>\n",
       "      <td>-0.664641</td>\n",
       "      <td>4</td>\n",
       "      <td>6</td>\n",
       "      <td>1</td>\n",
       "      <td>7.0</td>\n",
       "      <td>True</td>\n",
       "      <td>False</td>\n",
       "    </tr>\n",
       "    <tr>\n",
       "      <th>5</th>\n",
       "      <td>2015-01-11 05:00:00</td>\n",
       "      <td>1</td>\n",
       "      <td>6</td>\n",
       "      <td>20151101051</td>\n",
       "      <td>0.027933</td>\n",
       "      <td>-0.809218</td>\n",
       "      <td>5</td>\n",
       "      <td>6</td>\n",
       "      <td>1</td>\n",
       "      <td>9.0</td>\n",
       "      <td>True</td>\n",
       "      <td>False</td>\n",
       "    </tr>\n",
       "    <tr>\n",
       "      <th>6</th>\n",
       "      <td>2015-01-11 06:00:00</td>\n",
       "      <td>1</td>\n",
       "      <td>9</td>\n",
       "      <td>20151101061</td>\n",
       "      <td>0.044693</td>\n",
       "      <td>-0.664641</td>\n",
       "      <td>6</td>\n",
       "      <td>6</td>\n",
       "      <td>1</td>\n",
       "      <td>6.0</td>\n",
       "      <td>True</td>\n",
       "      <td>False</td>\n",
       "    </tr>\n",
       "    <tr>\n",
       "      <th>7</th>\n",
       "      <td>2015-01-11 07:00:00</td>\n",
       "      <td>1</td>\n",
       "      <td>8</td>\n",
       "      <td>20151101071</td>\n",
       "      <td>0.039106</td>\n",
       "      <td>-0.712833</td>\n",
       "      <td>7</td>\n",
       "      <td>6</td>\n",
       "      <td>1</td>\n",
       "      <td>9.0</td>\n",
       "      <td>True</td>\n",
       "      <td>False</td>\n",
       "    </tr>\n",
       "    <tr>\n",
       "      <th>8</th>\n",
       "      <td>2015-01-11 08:00:00</td>\n",
       "      <td>1</td>\n",
       "      <td>11</td>\n",
       "      <td>20151101081</td>\n",
       "      <td>0.055866</td>\n",
       "      <td>-0.568255</td>\n",
       "      <td>8</td>\n",
       "      <td>6</td>\n",
       "      <td>1</td>\n",
       "      <td>8.0</td>\n",
       "      <td>True</td>\n",
       "      <td>False</td>\n",
       "    </tr>\n",
       "    <tr>\n",
       "      <th>9</th>\n",
       "      <td>2015-01-11 09:00:00</td>\n",
       "      <td>1</td>\n",
       "      <td>12</td>\n",
       "      <td>20151101091</td>\n",
       "      <td>0.061453</td>\n",
       "      <td>-0.520063</td>\n",
       "      <td>9</td>\n",
       "      <td>6</td>\n",
       "      <td>1</td>\n",
       "      <td>11.0</td>\n",
       "      <td>True</td>\n",
       "      <td>False</td>\n",
       "    </tr>\n",
       "  </tbody>\n",
       "</table>\n",
       "</div>"
      ],
      "text/plain": [
       "             DateTime  Junction  Vehicles           ID  vehicles_min_max  \\\n",
       "0 2015-01-11 00:00:00         1        15  20151101001          0.078212   \n",
       "1 2015-01-11 01:00:00         1        13  20151101011          0.067039   \n",
       "2 2015-01-11 02:00:00         1        10  20151101021          0.050279   \n",
       "3 2015-01-11 03:00:00         1         7  20151101031          0.033520   \n",
       "4 2015-01-11 04:00:00         1         9  20151101041          0.044693   \n",
       "5 2015-01-11 05:00:00         1         6  20151101051          0.027933   \n",
       "6 2015-01-11 06:00:00         1         9  20151101061          0.044693   \n",
       "7 2015-01-11 07:00:00         1         8  20151101071          0.039106   \n",
       "8 2015-01-11 08:00:00         1        11  20151101081          0.055866   \n",
       "9 2015-01-11 09:00:00         1        12  20151101091          0.061453   \n",
       "\n",
       "   Vehicles_z_score  Hour_of_day  Day_of_week  Month  Vehicles_lag_1hour  \\\n",
       "0         -0.375485            0            6      1                 NaN   \n",
       "1         -0.471870            1            6      1                15.0   \n",
       "2         -0.616448            2            6      1                13.0   \n",
       "3         -0.761026            3            6      1                10.0   \n",
       "4         -0.664641            4            6      1                 7.0   \n",
       "5         -0.809218            5            6      1                 9.0   \n",
       "6         -0.664641            6            6      1                 6.0   \n",
       "7         -0.712833            7            6      1                 9.0   \n",
       "8         -0.568255            8            6      1                 8.0   \n",
       "9         -0.520063            9            6      1                11.0   \n",
       "\n",
       "   is_weekend  is_special_event  \n",
       "0        True             False  \n",
       "1        True             False  \n",
       "2        True             False  \n",
       "3        True             False  \n",
       "4        True             False  \n",
       "5        True             False  \n",
       "6        True             False  \n",
       "7        True             False  \n",
       "8        True             False  \n",
       "9        True             False  "
      ]
     },
     "execution_count": 12,
     "metadata": {},
     "output_type": "execute_result"
    }
   ],
   "source": [
    "# Binary Indicators for weekends, and special events\n",
    "\n",
    "df['is_weekend'] = df['DateTime'].dt.dayofweek>=5\n",
    "\n",
    "special_event_dates=['2023-06-01']\n",
    "\n",
    "special_event_dates = pd.to_datetime(special_event_dates)\n",
    "\n",
    "df['is_special_event']=df['DateTime'].dt.date.isin(special_event_dates.date)\n",
    "\n",
    "df.head(10)"
   ]
  },
  {
   "cell_type": "markdown",
   "id": "3ec6fc60",
   "metadata": {},
   "source": [
    "# Correlation Analysis"
   ]
  },
  {
   "cell_type": "markdown",
   "id": "eab4607e",
   "metadata": {},
   "source": [
    "Calculating the correlation between features and the target variable to get an initial idea of feature relevance."
   ]
  },
  {
   "cell_type": "code",
   "execution_count": 13,
   "id": "3199a7c8",
   "metadata": {
    "scrolled": false
   },
   "outputs": [
    {
     "data": {
      "image/png": "[encoded data removed]",
      "text/plain": [
       "<Figure size 1200x800 with 2 Axes>"
      ]
     },
     "metadata": {},
     "output_type": "display_data"
    },
    {
     "name": "stdout",
     "output_type": "stream",
     "text": [
      "vehicles_min_max      1.000000\n",
      "Vehicles              1.000000\n",
      "Vehicles_z_score      1.000000\n",
      "Vehicles_lag_1hour    0.970143\n",
      "ID                    0.227974\n",
      "Hour_of_day           0.219938\n",
      "Month                -0.016758\n",
      "Day_of_week          -0.084059\n",
      "is_weekend           -0.096628\n",
      "Junction             -0.613787\n",
      "is_special_event           NaN\n",
      "Name: Vehicles, dtype: float64\n"
     ]
    }
   ],
   "source": [
    "# Correlation analysis\n",
    "\n",
    "correlation_matrix=df.corr()\n",
    "\n",
    "# Heatmap\n",
    "plt.figure(figsize=(12,8))\n",
    "sns.heatmap(correlation_matrix, annot=True, cmap='coolwarm', fmt='.2f')\n",
    "plt.title('Correlation Matrix')\n",
    "plt.show()\n",
    "\n",
    "correlation_with_target = correlation_matrix['Vehicles'].sort_values(ascending=False)\n",
    "print(correlation_with_target)"
   ]
  },
  {
   "cell_type": "code",
   "execution_count": 14,
   "id": "ee3c7a9e",
   "metadata": {},
   "outputs": [
    {
     "data": {
      "text/plain": [
       "DateTime              0\n",
       "Junction              0\n",
       "Vehicles              0\n",
       "ID                    0\n",
       "vehicles_min_max      0\n",
       "Vehicles_z_score      0\n",
       "Hour_of_day           0\n",
       "Day_of_week           0\n",
       "Month                 0\n",
       "Vehicles_lag_1hour    0\n",
       "is_weekend            0\n",
       "is_special_event      0\n",
       "dtype: int64"
      ]
     },
     "execution_count": 14,
     "metadata": {},
     "output_type": "execute_result"
    }
   ],
   "source": [
    "# Dropping the Null values from the data\n",
    "\n",
    "df.dropna(inplace=True)\n",
    "\n",
    "df.isnull().sum()"
   ]
  },
  {
   "cell_type": "markdown",
   "id": "c80a0dd8",
   "metadata": {},
   "source": [
    "# Feature Importance from Tree-Based Models:"
   ]
  },
  {
   "cell_type": "markdown",
   "id": "4b9039b3",
   "metadata": {},
   "source": [
    "Using tree-based models like Random Forest to compute feature importance scores."
   ]
  },
  {
   "cell_type": "code",
   "execution_count": 16,
   "id": "f9615dab",
   "metadata": {},
   "outputs": [
    {
     "data": {
      "image/png": "[encoded data removed]",
      "text/plain": [
       "<Figure size 1200x800 with 1 Axes>"
      ]
     },
     "metadata": {},
     "output_type": "display_data"
    }
   ],
   "source": [
    "# Feature Importance using Random Forest Regressor\n",
    "\n",
    "features=['Hour_of_day', 'Day_of_week', 'Month', 'is_weekend', 'is_special_event', 'Vehicles_lag_1hour']\n",
    "X=df[features]\n",
    "Y=df['Vehicles']\n",
    "\n",
    "X_train, X_test, Y_train, Y_test=train_test_split(X, Y, test_size=0.3, random_state=42)\n",
    "\n",
    "rf_model=RandomForestRegressor(n_estimators=100, random_state=42)\n",
    "rf_model.fit(X_train, Y_train)\n",
    "\n",
    "feature_importances = rf_model.feature_importances_\n",
    "\n",
    "feature_importance_df=pd.DataFrame({'Feature': features, 'Importance': feature_importances})\n",
    "feature_importance_df.sort_values(by='Importance', ascending=False, inplace=True)\n",
    "\n",
    "plt.figure(figsize=(12,8))\n",
    "sns.barplot(x='Importance', y='Feature', data=feature_importance_df)\n",
    "plt.title('Feature Importance from Random Forest')\n",
    "plt.show()"
   ]
  },
  {
   "cell_type": "markdown",
   "id": "88ebcb0b",
   "metadata": {},
   "source": [
    "Finding the most influential feature for model training"
   ]
  },
  {
   "cell_type": "code",
   "execution_count": 17,
   "id": "f6a0f8b7",
   "metadata": {},
   "outputs": [
    {
     "name": "stdout",
     "output_type": "stream",
     "text": [
      "Selected features: ['Vehicles_lag_1hour']\n"
     ]
    }
   ],
   "source": [
    "threshold=0.1\n",
    "\n",
    "selected_features=feature_importance_df[feature_importance_df['Importance']>threshold]['Feature'].tolist()\n",
    "\n",
    "print(f\"Selected features: {selected_features}\")"
   ]
  },
  {
   "cell_type": "markdown",
   "id": "4d4069fb",
   "metadata": {},
   "source": [
    "# Selection of most influential feature:"
   ]
  },
  {
   "cell_type": "markdown",
   "id": "5dc9589a",
   "metadata": {},
   "source": [
    "Using the the feature importances derived from the Random Forest model to select the most influential features for model training, "
   ]
  },
  {
   "cell_type": "code",
   "execution_count": 18,
   "id": "444cff69",
   "metadata": {},
   "outputs": [
    {
     "name": "stdout",
     "output_type": "stream",
     "text": [
      "Train score with selected features: 0.9426855388389518\n",
      "Test score with selected features: 0.9423781338789269\n"
     ]
    }
   ],
   "source": [
    "X_selected=X[selected_features]\n",
    "\n",
    "X_train_selected, X_test_selected, Y_train, Y_test=train_test_split(X_selected, Y, test_size=0.3, random_state=42)\n",
    "\n",
    "rf_model_selected=RandomForestRegressor(n_estimators=100, random_state=42)\n",
    "rf_model_selected.fit(X_train_selected, Y_train)\n",
    "\n",
    "train_score=rf_model_selected.score(X_train_selected, Y_train)\n",
    "test_score=rf_model_selected.score(X_test_selected, Y_test)\n",
    "\n",
    "print(f\"Train score with selected features: {train_score}\")\n",
    "print(f\"Test score with selected features: {test_score}\")"
   ]
  }
 ],
 "metadata": {
  "kernelspec": {
   "display_name": "Python 3 (ipykernel)",
   "language": "python",
   "name": "python3"
  },
  "language_info": {
   "codemirror_mode": {
    "name": "ipython",
    "version": 3
   },
   "file_extension": ".py",
   "mimetype": "text/x-python",
   "name": "python",
   "nbconvert_exporter": "python",
   "pygments_lexer": "ipython3",
   "version": "3.9.13"
  }
 },
 "nbformat": 4,
 "nbformat_minor": 5
}
